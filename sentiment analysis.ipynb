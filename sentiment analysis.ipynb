{
 "cells": [
  {
   "cell_type": "code",
   "execution_count": null,
   "id": "5ef41bbd",
   "metadata": {
    "scrolled": true
   },
   "outputs": [],
   "source": [
    "from cnsenti import Sentiment\n",
    "from cnsenti import Emotion"
   ]
  },
  {
   "cell_type": "code",
   "execution_count": null,
   "id": "9be06dd1",
   "metadata": {
    "scrolled": true
   },
   "outputs": [],
   "source": [
    "pip install cnsenti"
   ]
  },
  {
   "cell_type": "code",
   "execution_count": null,
   "id": "b03192b6",
   "metadata": {},
   "outputs": [],
   "source": [
    "file = open('/Users/angelless/Desktop/article.txt','r')\n",
    "str = file.read()"
   ]
  },
  {
   "cell_type": "code",
   "execution_count": null,
   "id": "f5dba8c6",
   "metadata": {},
   "outputs": [],
   "source": [
    "senti = Sentiment()\n",
    "test_text = str\n",
    "data = senti.sentiment_count(test_text)\n",
    "print(data)"
   ]
  },
  {
   "cell_type": "code",
   "execution_count": null,
   "id": "1a772681",
   "metadata": {},
   "outputs": [],
   "source": [
    "rate1 = data['pos']/data['words']\n",
    "rate2 = data['neg']/data['words']\n",
    "print(rate1)\n",
    "print(rate2)"
   ]
  },
  {
   "cell_type": "code",
   "execution_count": null,
   "id": "b295231d",
   "metadata": {},
   "outputs": [],
   "source": [
    "emotion = Emotion()\n",
    "text = str\n",
    "d = emotion.emotion_count(test_text)\n",
    "print(d)\n"
   ]
  }
 ],
 "metadata": {
  "kernelspec": {
   "display_name": "Python 3 (ipykernel)",
   "language": "python",
   "name": "python3"
  },
  "language_info": {
   "codemirror_mode": {
    "name": "ipython",
    "version": 3
   },
   "file_extension": ".py",
   "mimetype": "text/x-python",
   "name": "python",
   "nbconvert_exporter": "python",
   "pygments_lexer": "ipython3",
   "version": "3.9.13"
  }
 },
 "nbformat": 4,
 "nbformat_minor": 5
}
