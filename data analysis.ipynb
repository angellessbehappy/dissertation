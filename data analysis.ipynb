{
 "cells": [
  {
   "cell_type": "code",
   "execution_count": null,
   "id": "0a8e3e2a",
   "metadata": {},
   "outputs": [],
   "source": [
    "import seaborn as sns\n",
    "import pandas as pd\n",
    "import matplotlib.pyplot as plt"
   ]
  },
  {
   "cell_type": "code",
   "execution_count": null,
   "id": "c3620b97",
   "metadata": {},
   "outputs": [],
   "source": [
    "df = pd.read_csv(\"data.csv\")"
   ]
  },
  {
   "cell_type": "code",
   "execution_count": null,
   "id": "12d25456",
   "metadata": {},
   "outputs": [],
   "source": [
    "sns.set_theme(style=\"whitegrid\", palette=\"pastel\") \n",
    "sns.boxplot(x=\"verified_author\", y=\"TPSR\",\n",
    "            palette=[\"b\", \"navajowhite\"],\n",
    "            data=df1)"
   ]
  },
  {
   "cell_type": "code",
   "execution_count": null,
   "id": "851da63f",
   "metadata": {},
   "outputs": [],
   "source": [
    "sns.set_theme(style=\"whitegrid\", palette=\"pastel\") \n",
    "sns.boxplot(x=\"verified_author\", y=\"TNSR\",\n",
    "            palette=[\"c\", \"lightpink\"],\n",
    "            data=df1)"
   ]
  },
  {
   "cell_type": "code",
   "execution_count": null,
   "id": "281a68ae",
   "metadata": {},
   "outputs": [],
   "source": [
    "df2 = pd.read_csv(\"emotions.csv\")"
   ]
  },
  {
   "cell_type": "code",
   "execution_count": null,
   "id": "7f0ef30d",
   "metadata": {},
   "outputs": [],
   "source": [
    "sns.set_theme(style=\"whitegrid\", palette=\"pastel\") \n",
    "sns.violinplot(x = \"emotions\", \n",
    "               y = \"num\", \n",
    "               palette = 'pastel',\n",
    "               scale='count',\n",
    "               data=df2,\n",
    "               cut=2,\n",
    "               inner='box'\n",
    "              )\n",
    "plt.tick_params(axis='x', labelsize=9) "
   ]
  },
  {
   "cell_type": "code",
   "execution_count": null,
   "id": "1f2385f2",
   "metadata": {
    "scrolled": false
   },
   "outputs": [],
   "source": [
    "sns.displot(\n",
    "    data=df,\n",
    "    x=\"refer_to_metoo\", hue=\"verified_account\",\n",
    "    multiple=\"stack\",shrink=0.8\n",
    "    )\n",
    "sns.set_theme(style=\"whitegrid\", palette=\"pastel\") \n",
    "sns.despine(top=False,right=False)"
   ]
  },
  {
   "cell_type": "code",
   "execution_count": null,
   "id": "eec4b3cb",
   "metadata": {},
   "outputs": [],
   "source": [
    "sns.displot(\n",
    "    data=df,\n",
    "    x=\"pos_or_neg\", hue=\"verified_account\",\n",
    "    multiple=\"stack\",shrink=0.8\n",
    "    )\n",
    "sns.set_theme(style=\"whitegrid\", palette=\"pastel\") \n",
    "sns.despine(top=False,right=False)"
   ]
  }
 ],
 "metadata": {
  "celltoolbar": "无",
  "kernelspec": {
   "display_name": "Python 3 (ipykernel)",
   "language": "python",
   "name": "python3"
  },
  "language_info": {
   "codemirror_mode": {
    "name": "ipython",
    "version": 3
   },
   "file_extension": ".py",
   "mimetype": "text/x-python",
   "name": "python",
   "nbconvert_exporter": "python",
   "pygments_lexer": "ipython3",
   "version": "3.9.13"
  }
 },
 "nbformat": 4,
 "nbformat_minor": 5
}
